{
 "cells": [
  {
   "cell_type": "code",
   "execution_count": 1,
   "metadata": {
    "collapsed": true
   },
   "outputs": [],
   "source": [
    "import string\n",
    "import sys\n",
    "import re\n",
    "import os"
   ]
  },
  {
   "cell_type": "code",
   "execution_count": 18,
   "metadata": {
    "collapsed": true
   },
   "outputs": [],
   "source": [
    "filename = 'midi'\n",
    "theText = open(filename, \"r\").read()\n",
    "theTextLines = open(filename, \"r\").readlines()\n",
    "startText = 'MIDI_IN  \\* none'\n",
    "endText = '        \\* none \\* 99'\n",
    "skiptText = 'N\\$*'"
   ]
  },
  {
   "cell_type": "code",
   "execution_count": 19,
   "metadata": {
    "collapsed": false
   },
   "outputs": [],
   "source": [
    "with open(filename) as myFile:\n",
    "        for num, line in enumerate(myFile,1):\n",
    "                if startText in line:\n",
    "                    startLine = num - 1 #first line is off by 1 for some reason\n",
    "                if endText in line:\n",
    "                    endLine = num\n",
    "        lineRange = range(startLine,endLine)"
   ]
  },
  {
   "cell_type": "code",
   "execution_count": 20,
   "metadata": {
    "collapsed": true
   },
   "outputs": [],
   "source": [
    "def changeToInt(s):\n",
    "    try:\n",
    "        int(s)\n",
    "        return int(s)\n",
    "    except ValueError:\n",
    "        return s"
   ]
  },
  {
   "cell_type": "code",
   "execution_count": 22,
   "metadata": {
    "collapsed": false
   },
   "outputs": [
    {
     "name": "stdout",
     "output_type": "stream",
     "text": [
      "         * none * 49         io       N$68\n",
      "\n",
      "         * none * 5          io       AN6\n",
      "\n",
      "         * none * 50         io       N$69\n",
      "\n",
      "         * none * 51         io       N$70\n",
      "\n",
      "         * none * 52         io       N$71\n",
      "\n",
      "         * none * 53         io       N$72\n",
      "\n",
      "         * none * 54         io       N$73\n",
      "\n",
      "         * none * 55         io       N$74\n",
      "\n",
      "         * none * 56         io       N$75\n",
      "\n",
      "         * none * 57         io       N$76\n",
      "\n",
      "         * none * 58         io       N$77\n",
      "\n",
      "         * none * 59         io       N$78\n",
      "\n",
      "         * none * 6          io       AN7\n",
      "\n",
      "         * none * 60         io       N$79\n",
      "\n",
      "         * none * 61         io       N$80\n",
      "\n",
      "         * none * 62         io       N$81\n",
      "\n",
      "         * none * 63         io       N$82\n",
      "\n",
      "         * none * 64         io       N$83\n",
      "\n",
      "         * none * 65         io       N$84\n",
      "\n",
      "         * none * 66         io       N$85\n",
      "\n",
      "         * none * 67         io       N$86\n",
      "\n",
      "         * none * 68         io       N$87\n",
      "\n",
      "         * none * 69         io       N$88\n",
      "\n",
      "         * none * 7          io       AN8\n",
      "\n",
      "         * none * 70         io       N$89\n",
      "\n",
      "         * none * 71         io       N$90\n",
      "\n",
      "         * none * 72         io       N$91\n",
      "\n",
      "         * none * 73         io       N$92\n",
      "\n",
      "         * none * 74         io       N$93\n",
      "\n",
      "         * none * 75         io       N$94\n",
      "\n",
      "         * none * 76         io       N$95\n",
      "\n",
      "         * none * 77         io       N$96\n",
      "\n",
      "         * none * 78         io       N$97\n",
      "\n",
      "         * none * 79         io       N$98\n",
      "\n",
      "         * none * 8          io       AN9\n",
      "\n",
      "         * none * 80         io       N$99\n",
      "\n",
      "         * none * 81         io       N$100\n",
      "\n",
      "         * none * 82         io       N$101\n",
      "\n",
      "         * none * 83         io       N$102\n",
      "\n",
      "         * none * 84         io       N$103\n",
      "\n",
      "         * none * 85         io       N$104\n",
      "\n",
      "         * none * 86         io       N$105\n",
      "\n",
      "         * none * 87         io       N$106\n",
      "\n",
      "         * none * 88         io       N$107\n",
      "\n",
      "         * none * 89         io       N$108\n",
      "\n",
      "         * none * 9          io       AN10\n",
      "\n",
      "         * none * 90         io       N$109\n",
      "\n",
      "         * none * 91         io       N$110\n",
      "\n",
      "         * none * 92         io       N$111\n",
      "\n",
      "         * none * 93         io       N$112\n",
      "\n",
      "         * none * 94         io       N$113\n",
      "\n",
      "         * none * 95         io       N$114\n",
      "\n",
      "         * none * 96         io       N$115\n",
      "\n",
      "         * none * 97         io       N$116\n",
      "\n",
      "         * none * 98         io       N$117\n",
      "\n",
      "         * none * 99         io       N$118\n",
      "\n",
      "\n",
      "\n"
     ]
    },
    {
     "ename": "IndexError",
     "evalue": "list index out of range",
     "output_type": "error",
     "traceback": [
      "\u001b[0;31m---------------------------------------------------------------------------\u001b[0m",
      "\u001b[0;31mIndexError\u001b[0m                                Traceback (most recent call last)",
      "\u001b[0;32m<ipython-input-22-11585df18771>\u001b[0m in \u001b[0;36m<module>\u001b[0;34m()\u001b[0m\n\u001b[1;32m      7\u001b[0m     \u001b[0;31m#pinNum = re.sub('DAC0','A21',thisline[1])\u001b[0m\u001b[0;34m\u001b[0m\u001b[0;34m\u001b[0m\u001b[0m\n\u001b[1;32m      8\u001b[0m     \u001b[0;31m#pinNum = re.sub('DAC1','A22',pinNum)\u001b[0m\u001b[0;34m\u001b[0m\u001b[0;34m\u001b[0m\u001b[0m\n\u001b[0;32m----> 9\u001b[0;31m     \u001b[0mpinSig\u001b[0m \u001b[0;34m=\u001b[0m \u001b[0mre\u001b[0m\u001b[0;34m.\u001b[0m\u001b[0msub\u001b[0m\u001b[0;34m(\u001b[0m\u001b[0;34m'\\n'\u001b[0m\u001b[0;34m,\u001b[0m\u001b[0;34m''\u001b[0m\u001b[0;34m,\u001b[0m\u001b[0mthisline\u001b[0m\u001b[0;34m[\u001b[0m\u001b[0;36m2\u001b[0m\u001b[0;34m]\u001b[0m\u001b[0;34m)\u001b[0m\u001b[0;34m\u001b[0m\u001b[0m\n\u001b[0m\u001b[1;32m     10\u001b[0m     \u001b[0mtest\u001b[0m \u001b[0;34m=\u001b[0m \u001b[0mre\u001b[0m\u001b[0;34m.\u001b[0m\u001b[0msearch\u001b[0m\u001b[0;34m(\u001b[0m\u001b[0mskiptText\u001b[0m\u001b[0;34m,\u001b[0m\u001b[0mtheTextLines\u001b[0m\u001b[0;34m[\u001b[0m\u001b[0mi\u001b[0m\u001b[0;34m]\u001b[0m\u001b[0;34m)\u001b[0m\u001b[0;34m\u001b[0m\u001b[0m\n\u001b[1;32m     11\u001b[0m     \u001b[0;31m#print(test)\u001b[0m\u001b[0;34m\u001b[0m\u001b[0;34m\u001b[0m\u001b[0m\n",
      "\u001b[0;31mIndexError\u001b[0m: list index out of range"
     ]
    }
   ],
   "source": [
    "pinDict = dict()\n",
    "for i in lineRange:\n",
    "    #print('------')\n",
    "    print(theTextLines[i])\n",
    "    thisline = re.split(\" +\", theTextLines[i])\n",
    "    #print(thisline)\n",
    "    #pinNum = re.sub('DAC0','A21',thisline[1])\n",
    "    #pinNum = re.sub('DAC1','A22',pinNum)\n",
    "    pinSig = re.sub('\\n','',thisline[2])\n",
    "    test = re.search(skiptText,theTextLines[i])\n",
    "    #print(test)\n",
    "    if test is None :\n",
    "        pinDict[pinSig] = changeToInt(pinNum)\n",
    "        #pinDict[pinSig] = pinNum"
   ]
  },
  {
   "cell_type": "code",
   "execution_count": 303,
   "metadata": {
    "collapsed": false
   },
   "outputs": [
    {
     "data": {
      "text/plain": [
       "{'AN1': 14,\n",
       " 'AN10': 'A22',\n",
       " 'AN11': 'A10',\n",
       " 'AN12': 'A11',\n",
       " 'AN2': 15,\n",
       " 'AN3': 16,\n",
       " 'AN4': 33,\n",
       " 'AN5': 34,\n",
       " 'AN6': 35,\n",
       " 'AN7': 36,\n",
       " 'AN8': 39,\n",
       " 'AN9': 'A21',\n",
       " 'BTN1': 11,\n",
       " 'BTN10': 44,\n",
       " 'BTN11': 45,\n",
       " 'BTN12': 46,\n",
       " 'BTN2': 12,\n",
       " 'BTN3': 24,\n",
       " 'BTN4': 25,\n",
       " 'BTN5': 26,\n",
       " 'BTN6': 27,\n",
       " 'BTN7': 28,\n",
       " 'BTN8': 42,\n",
       " 'BTN9': 43,\n",
       " 'I2C_SCL': 47,\n",
       " 'I2C_SDA': 48,\n",
       " 'JOY_AN_H_M': 18,\n",
       " 'JOY_AN_H_S': 20,\n",
       " 'JOY_AN_V_M': 17,\n",
       " 'JOY_AN_V_S': 19,\n",
       " 'JOY_BTN_M': 0,\n",
       " 'JOY_BTN_S': 1,\n",
       " 'L1': 2,\n",
       " 'L10': 30,\n",
       " 'L11': 31,\n",
       " 'L12': 32,\n",
       " 'L2': 3,\n",
       " 'L3': 4,\n",
       " 'L4': 5,\n",
       " 'L5': 6,\n",
       " 'L6': 7,\n",
       " 'L7': 8,\n",
       " 'L8': 23,\n",
       " 'L9': 29,\n",
       " 'M_A_IN': 40,\n",
       " 'M_B_IN': 41,\n",
       " 'M_PWM_A': 21,\n",
       " 'M_PWM_B': 22,\n",
       " 'S1': 9,\n",
       " 'S2': 10,\n",
       " 'U1': 51,\n",
       " 'U2': 52,\n",
       " 'U3': 53,\n",
       " 'U4': 54}"
      ]
     },
     "execution_count": 303,
     "metadata": {},
     "output_type": "execute_result"
    }
   ],
   "source": [
    "pinDict"
   ]
  },
  {
   "cell_type": "code",
   "execution_count": 304,
   "metadata": {
    "collapsed": false
   },
   "outputs": [],
   "source": [
    "pots, joyPots, btns, joyBtns, leds, usr = ([] for i in range(6))\n",
    "arrayNames = {'POTS' : pots,\n",
    "              'JPOTS' : joyPots, \n",
    "              'BTNS' : btns,\n",
    "              'JBTNS' : joyBtns,\n",
    "              'LEDS' : leds, \n",
    "              'USR' : usr}"
   ]
  },
  {
   "cell_type": "code",
   "execution_count": 305,
   "metadata": {
    "collapsed": false,
    "scrolled": true
   },
   "outputs": [],
   "source": [
    "def atoi(text):\n",
    "    return int(text) if text.isdigit() else text\n",
    "\n",
    "def natural_keys(text):\n",
    "    return [ atoi(c) for c in re.split('(\\d+)', text) ]"
   ]
  },
  {
   "cell_type": "code",
   "execution_count": 306,
   "metadata": {
    "collapsed": false
   },
   "outputs": [],
   "source": [
    "\n",
    "def createList(searchTerm, listToAppendTo):\n",
    "    listToAppendTo.clear()\n",
    "    for key in pinDict.keys():\n",
    "        if key.startswith(searchTerm):\n",
    "            listToAppendTo.append(key)\n",
    "            listToAppendTo.sort(key=natural_keys)\n",
    "            \n",
    "createList('BTN', btns)\n",
    "createList('AN', pots)\n",
    "createList('JOY_AN', joyPots)\n",
    "createList('JOY_BTN', joyBtns)\n",
    "createList('L',leds)\n",
    "createList('U',usr)\n",
    "leds += usr #combine leds and usr"
   ]
  },
  {
   "cell_type": "code",
   "execution_count": null,
   "metadata": {
    "collapsed": false
   },
   "outputs": [],
   "source": []
  },
  {
   "cell_type": "code",
   "execution_count": 308,
   "metadata": {
    "collapsed": false
   },
   "outputs": [],
   "source": [
    "output = open(\"output.h\", \"w\")\n",
    "\n",
    "#Create variables based on pinout\n",
    "for key, value in pinDict.items():\n",
    "    #outputLine = \"int \" + key + \"\\t\" + \"= \" + str(value) + \";\\n\"\n",
    "    outputLine = '{}{:10}{}{}{}'.format('const int ',key,'= ',value,';\\n')\n",
    "    output.write(outputLine)\n",
    " \n",
    "#Create arrays for variables for looping \n",
    "output.write('\\n')\n",
    "output.write('//------------')\n",
    "output.write('---ARRAYS---')\n",
    "output.write('------------\\n')\n",
    "output.write('\\n')\n",
    "for key, value in arrayNames.items():\n",
    "    \n",
    "    outputLine = '{}{:10}{}'.format('const int ',key +'[]','= {')\n",
    "    outputLine += '{}{}{}'.format(value[0],',','\\n')\n",
    "    for val in value[1 :-1]:\n",
    "        outputLine += '{:>23}{}{}{}'.format(' ',val,',','\\n')\n",
    "    outputLine += '{:>23}{}{}{}'.format(' ',value[-1],'}',';\\n')\n",
    "    outputLine += '\\n'\n",
    "    output.write(outputLine)\n",
    "  \n",
    "output.close() "
   ]
  },
  {
   "cell_type": "code",
   "execution_count": 309,
   "metadata": {
    "collapsed": false
   },
   "outputs": [
    {
     "name": "stdout",
     "output_type": "stream",
     "text": [
      "dict_items([('POTS', ['AN1', 'AN2', 'AN3', 'AN4', 'AN5', 'AN6', 'AN7', 'AN8', 'AN9', 'AN10', 'AN11', 'AN12']), ('JPOTS', ['JOY_AN_H_M', 'JOY_AN_H_S', 'JOY_AN_V_M', 'JOY_AN_V_S']), ('BTNS', ['BTN1', 'BTN2', 'BTN3', 'BTN4', 'BTN5', 'BTN6', 'BTN7', 'BTN8', 'BTN9', 'BTN10', 'BTN11', 'BTN12']), ('JBTNS', ['JOY_BTN_M', 'JOY_BTN_S']), ('LEDS', ['L1', 'L2', 'L3', 'L4', 'L5', 'L6', 'L7', 'L8', 'L9', 'L10', 'L11', 'L12', 'U1', 'U2', 'U3', 'U4']), ('USR', ['U1', 'U2', 'U3', 'U4'])])\n"
     ]
    }
   ],
   "source": [
    "print(arrayNames.items())"
   ]
  },
  {
   "cell_type": "code",
   "execution_count": null,
   "metadata": {
    "collapsed": true
   },
   "outputs": [],
   "source": []
  }
 ],
 "metadata": {
  "kernelspec": {
   "display_name": "Python 3",
   "language": "python",
   "name": "python3"
  },
  "language_info": {
   "codemirror_mode": {
    "name": "ipython",
    "version": 3
   },
   "file_extension": ".py",
   "mimetype": "text/x-python",
   "name": "python",
   "nbconvert_exporter": "python",
   "pygments_lexer": "ipython3",
   "version": "3.6.0"
  }
 },
 "nbformat": 4,
 "nbformat_minor": 2
}
