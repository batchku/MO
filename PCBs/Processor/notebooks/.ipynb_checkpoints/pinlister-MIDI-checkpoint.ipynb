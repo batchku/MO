{
 "cells": [
  {
   "cell_type": "code",
   "execution_count": 6,
   "metadata": {
    "collapsed": true
   },
   "outputs": [],
   "source": [
    "import string\n",
    "import sys\n",
    "import re\n",
    "import os"
   ]
  },
  {
   "cell_type": "code",
   "execution_count": 7,
   "metadata": {
    "collapsed": true
   },
   "outputs": [],
   "source": [
    "filename = '../MOD-pinlist-schematic'\n",
    "theText = open(filename, \"r\").read()\n",
    "theTextLines = open(filename, \"r\").readlines()\n",
    "startText = 'MIDI_IN' #Start at MIDI_IN\n",
    "endText = ' * none * 99'#go to the end of MIDI_OUT\n",
    "skiptText = 'N\\$' # lines to be skipped, N$* indicated a connection yet to be made"
   ]
  },
  {
   "cell_type": "code",
   "execution_count": 8,
   "metadata": {
    "collapsed": false
   },
   "outputs": [],
   "source": [
    "with open(filename) as myFile:\n",
    "        for num, line in enumerate(myFile,1):\n",
    "                if startText in line:\n",
    "                    startLine = num -1 #first line is off by 1 for some reason\n",
    "                if endText in line:\n",
    "                    endLine = num -1\n",
    "        lineRange = range(startLine,endLine)"
   ]
  },
  {
   "cell_type": "code",
   "execution_count": 9,
   "metadata": {
    "collapsed": true
   },
   "outputs": [],
   "source": [
    "def changeToInt(s):\n",
    "    try:\n",
    "        int(s)\n",
    "        return int(s)\n",
    "    except ValueError:\n",
    "        return s"
   ]
  },
  {
   "cell_type": "code",
   "execution_count": 10,
   "metadata": {
    "collapsed": false
   },
   "outputs": [],
   "source": [
    "pinDict = dict()\n",
    "for i in lineRange:\n",
    "    #print('------')\n",
    "    #print(theTextLines[i])\n",
    "    \n",
    "    thisline = re.split(\" +\", theTextLines[i])\n",
    "    thisline = [e for e in thisline if e not in ('*', 'none', 'io','','MIDI_IN','MIDI_OUT', '\\n')]\n",
    "    if thisline: #skips lists that are empty\n",
    "        #print(thisline)\n",
    "        pinName = thisline[0] #index 0 is the signal name\n",
    "        midiNum = re.sub('\\n','',thisline[1]) #remove line breaks from midi numbers\n",
    "        test = re.search(skiptText,theTextLines[i]) #skip lines that aren't connected\n",
    "        #print(midiNum)\n",
    "        #print(test)\n",
    "        if test is None :\n",
    "            pinDict[midiNum] = changeToInt(pinName)\n",
    "            "
   ]
  },
  {
   "cell_type": "code",
   "execution_count": 11,
   "metadata": {
    "collapsed": false,
    "scrolled": true
   },
   "outputs": [
    {
     "data": {
      "text/plain": [
       "{'AN1': 0,\n",
       " 'AN10': 9,\n",
       " 'AN11': 10,\n",
       " 'AN12': 11,\n",
       " 'AN2': 1,\n",
       " 'AN3': 2,\n",
       " 'AN4': 3,\n",
       " 'AN5': 4,\n",
       " 'AN6': 5,\n",
       " 'AN7': 6,\n",
       " 'AN8': 7,\n",
       " 'AN9': 8,\n",
       " 'B1': 12,\n",
       " 'B10': 21,\n",
       " 'B11': 22,\n",
       " 'B12': 23,\n",
       " 'B13': 24,\n",
       " 'B14': 25,\n",
       " 'B15': 26,\n",
       " 'B16': 27,\n",
       " 'B2': 13,\n",
       " 'B3': 14,\n",
       " 'B4': 15,\n",
       " 'B5': 16,\n",
       " 'B6': 17,\n",
       " 'B7': 18,\n",
       " 'B8': 19,\n",
       " 'B9': 20,\n",
       " 'JOYB1': 32,\n",
       " 'JOYB2': 33,\n",
       " 'JOYH1': 30,\n",
       " 'JOYH2': 31,\n",
       " 'JOYV1': 28,\n",
       " 'JOYV2': 29,\n",
       " 'LED1': 0,\n",
       " 'LED2': 1,\n",
       " 'LED3': 2,\n",
       " 'LED4': 3,\n",
       " 'LED5': 4,\n",
       " 'LED6': 5,\n",
       " 'M_INA': 38,\n",
       " 'M_INB': 39,\n",
       " 'M_PWMA': 36,\n",
       " 'M_PWMB': 37,\n",
       " 'PWM_1': 12,\n",
       " 'PWM_10': 21,\n",
       " 'PWM_11': 22,\n",
       " 'PWM_12': 23,\n",
       " 'PWM_13': 24,\n",
       " 'PWM_14': 25,\n",
       " 'PWM_15': 26,\n",
       " 'PWM_16': 27,\n",
       " 'PWM_2': 13,\n",
       " 'PWM_3': 14,\n",
       " 'PWM_4': 15,\n",
       " 'PWM_5': 16,\n",
       " 'PWM_6': 17,\n",
       " 'PWM_7': 18,\n",
       " 'PWM_8': 19,\n",
       " 'PWM_9': 20,\n",
       " 'S1': 34,\n",
       " 'S2': 35}"
      ]
     },
     "execution_count": 11,
     "metadata": {},
     "output_type": "execute_result"
    }
   ],
   "source": [
    "d = pinDict\n",
    "\n",
    "d"
   ]
  },
  {
   "cell_type": "code",
   "execution_count": 12,
   "metadata": {
    "collapsed": false,
    "scrolled": true
   },
   "outputs": [],
   "source": [
    "def atoi(text):\n",
    "    return int(text) if text.isdigit() else text\n",
    "\n",
    "def natural_keys(text):\n",
    "    return [ atoi(c) for c in re.split('(\\d+)', text) ]"
   ]
  },
  {
   "cell_type": "code",
   "execution_count": 13,
   "metadata": {
    "collapsed": false
   },
   "outputs": [],
   "source": [
    "\n",
    "def createList(searchTerm, listToAppendTo):\n",
    "    listToAppendTo.clear()\n",
    "    for key in pinDict.keys():\n",
    "        if key.startswith(searchTerm):\n",
    "            listToAppendTo.append(key)\n",
    "            listToAppendTo.sort(key=natural_keys)\n",
    "    for index, item in enumerate(listToAppendTo):   \n",
    "        #print(pinDict.get(item))\n",
    "        a = [item,pinDict.get(item)]\n",
    "        listToAppendTo[index] = a             "
   ]
  },
  {
   "cell_type": "code",
   "execution_count": 14,
   "metadata": {
    "collapsed": true
   },
   "outputs": [],
   "source": [
    "def createList2(searchTerm):\n",
    "    listToAppendTo = []\n",
    "    listToAppendTo.clear()\n",
    "    for key in pinDict.keys():\n",
    "        if key.startswith(searchTerm):\n",
    "            listToAppendTo.append(key)\n",
    "            listToAppendTo.sort(key=natural_keys)\n",
    "    for index, item in enumerate(listToAppendTo):    \n",
    "        #print(pinDict.get(item))\n",
    "        a = [item,pinDict.get(item)]\n",
    "        listToAppendTo[index] = a\n",
    "    return listToAppendTo"
   ]
  },
  {
   "cell_type": "code",
   "execution_count": 15,
   "metadata": {
    "collapsed": false
   },
   "outputs": [],
   "source": [
    "# create userIns array by copying an aspect of pots but changing Midi values\n",
    "def subArray(copyFrom, copyTo, shiftMidi):\n",
    "    for index, item in enumerate(copyFrom):    \n",
    "        copyTo.append(item[:]) #copy by value, not reference \n",
    "        copyTo[index][1] = shiftMidi + index #add an increment to each value to push them elsewhere\n",
    "        #print(userIns[index])"
   ]
  },
  {
   "cell_type": "code",
   "execution_count": 16,
   "metadata": {
    "collapsed": false
   },
   "outputs": [
    {
     "name": "stdout",
     "output_type": "stream",
     "text": [
      "-1\n",
      "<_sre.SRE_Match object; span=(10, 12), match='AN'>\n"
     ]
    }
   ],
   "source": [
    "strA = \"AN\";\n",
    "strB = \"JOYH|JOYV|AN\";\n",
    "\n",
    "m = re.search(strA, strB)\n",
    "print(strA.find(strB))\n",
    "print(m)"
   ]
  },
  {
   "cell_type": "code",
   "execution_count": 19,
   "metadata": {
    "collapsed": false
   },
   "outputs": [],
   "source": [
    "pots, joyPots, userPots, userIns, btns, joyBtns, userBtns, leds, userLeds, stripLeds, servos, motorPWMs, motorINs = ([] for i in range(13))\n",
    "\n",
    "arrayNames = {'POTS' : pots,\n",
    "              'JOYPOTS' : joyPots,\n",
    "              'USERPOTS' : userPots,\n",
    "              'USERINS' : userIns,\n",
    "              'JOYBTNS' : joyBtns,\n",
    "              'BUTTONS' : btns,\n",
    "              'USERBUTTONS' : userBtns,\n",
    "              'LEDS' : leds,\n",
    "              'USERLEDS' : userLeds,\n",
    "              'STRIPLEDS': stripLeds,\n",
    "              'SERVOS' : servos,\n",
    "              'MOTORPWMS' : motorPWMs,\n",
    "              'MOTORINS' : motorINs}"
   ]
  },
  {
   "cell_type": "code",
   "execution_count": 20,
   "metadata": {
    "collapsed": false
   },
   "outputs": [],
   "source": [
    "createList('AN', pots)\n",
    "joyPots += (createList2('JOYV'))\n",
    "joyPots += (createList2('JOYH'))\n",
    "subArray(pots[8:], userPots, 0)\n",
    "subArray(pots[4:8], userIns, 20)\n",
    "\n",
    "\n",
    "createList('JOYB', joyBtns)\n",
    "createList('B', btns)\n",
    "subArray(btns[12:], userBtns, 0)\n",
    "\n",
    "createList('PWM', leds)\n",
    "createList('LED', stripLeds)\n",
    "subArray(leds[12:], userLeds, 0)\n",
    "\n",
    "createList('S', servos)\n",
    "createList('M_IN', motorINs)\n",
    "createList('M_PWM', motorPWMs)\n"
   ]
  },
  {
   "cell_type": "code",
   "execution_count": 107,
   "metadata": {
    "collapsed": false
   },
   "outputs": [],
   "source": [
    "output = open(\"midi.h\", \"w\")\n",
    "\n",
    "#Create arrays for variables for looping \n",
    "output.write('\\n')\n",
    "output.write('//------------')\n",
    "output.write('---MIDI VALUES---')\n",
    "output.write('------------\\n')\n",
    "output.write('\\n')\n",
    "for key, value in arrayNames.items():\n",
    "    \n",
    "    outputLine = '{}{:18}{:}'.format('const int ',key + '_CC[] ','= {')\n",
    "    outputLine += '{}{}{}'.format(value[0][1],',','\\n')\n",
    "    for val in value[1 :-1]:\n",
    "        outputLine += '{:>31}{}{}{}'.format(' ',val[1],',','\\n')\n",
    "    outputLine += '{:>31}{}{}{}'.format(' ',value[-1][1],'}',';\\n')\n",
    "    outputLine += '\\n'\n",
    "    output.write(outputLine)\n",
    "  \n",
    "output.close() "
   ]
  },
  {
   "cell_type": "code",
   "execution_count": 22,
   "metadata": {
    "collapsed": false
   },
   "outputs": [],
   "source": [
    "#create inputs file for pd abstractions\n",
    "output = open(\"inputs.txt\", \"w\")\n",
    "\n",
    "#Create arrays for variables for looping \n",
    "for key, value in arrayNames.items():\n",
    "    \n",
    "    outputLine = key\n",
    "    for val in value:\n",
    "        outputLine += '{}{}'.format(' ',val[1])\n",
    "    outputLine += ';'\n",
    "    outputLine += '\\n'\n",
    "    output.write(outputLine)\n",
    "  \n",
    "output.close() "
   ]
  },
  {
   "cell_type": "code",
   "execution_count": 108,
   "metadata": {
    "collapsed": false
   },
   "outputs": [
    {
     "name": "stdout",
     "output_type": "stream",
     "text": [
      "POTS ['AN1', 0]\n",
      "POTS ['AN2', 1]\n",
      "POTS ['AN3', 2]\n",
      "POTS ['AN4', 3]\n",
      "POTS ['AN5', 4]\n",
      "POTS ['AN6', 5]\n",
      "POTS ['AN7', 6]\n",
      "POTS ['AN8', 7]\n",
      "POTS ['AN9', 8]\n",
      "POTS ['AN10', 9]\n",
      "POTS ['AN11', 10]\n",
      "POTS ['AN12', 11]\n",
      "JOYPOTS ['JOYV1', 28]\n",
      "JOYPOTS ['JOYV2', 29]\n",
      "JOYPOTS ['JOYH1', 30]\n",
      "JOYPOTS ['JOYH2', 31]\n",
      "USERPOTS ['AN9', 0]\n",
      "USERPOTS ['AN10', 1]\n",
      "USERPOTS ['AN11', 2]\n",
      "USERPOTS ['AN12', 3]\n",
      "USERINS ['AN5', 20]\n",
      "USERINS ['AN6', 21]\n",
      "USERINS ['AN7', 22]\n",
      "USERINS ['AN8', 23]\n",
      "JOYBTNS ['JOYB1', 32]\n",
      "JOYBTNS ['JOYB2', 33]\n",
      "BUTTONS ['B1', 12]\n",
      "BUTTONS ['B2', 13]\n",
      "BUTTONS ['B3', 14]\n",
      "BUTTONS ['B4', 15]\n",
      "BUTTONS ['B5', 16]\n",
      "BUTTONS ['B6', 17]\n",
      "BUTTONS ['B7', 18]\n",
      "BUTTONS ['B8', 19]\n",
      "BUTTONS ['B9', 20]\n",
      "BUTTONS ['B10', 21]\n",
      "BUTTONS ['B11', 22]\n",
      "BUTTONS ['B12', 23]\n",
      "BUTTONS ['B13', 24]\n",
      "BUTTONS ['B14', 25]\n",
      "BUTTONS ['B15', 26]\n",
      "BUTTONS ['B16', 27]\n",
      "USERBUTTONS ['B13', 0]\n",
      "USERBUTTONS ['B14', 1]\n",
      "USERBUTTONS ['B15', 2]\n",
      "USERBUTTONS ['B16', 3]\n",
      "LEDS ['PWM_1', 12]\n",
      "LEDS ['PWM_2', 13]\n",
      "LEDS ['PWM_3', 14]\n",
      "LEDS ['PWM_4', 15]\n",
      "LEDS ['PWM_5', 16]\n",
      "LEDS ['PWM_6', 17]\n",
      "LEDS ['PWM_7', 18]\n",
      "LEDS ['PWM_8', 19]\n",
      "LEDS ['PWM_9', 20]\n",
      "LEDS ['PWM_10', 21]\n",
      "LEDS ['PWM_11', 22]\n",
      "LEDS ['PWM_12', 23]\n",
      "LEDS ['PWM_13', 24]\n",
      "LEDS ['PWM_14', 25]\n",
      "LEDS ['PWM_15', 26]\n",
      "LEDS ['PWM_16', 27]\n",
      "USERLEDS ['PWM_13', 0]\n",
      "USERLEDS ['PWM_14', 1]\n",
      "USERLEDS ['PWM_15', 2]\n",
      "USERLEDS ['PWM_16', 3]\n",
      "STRIPLEDS ['LED1', 0]\n",
      "STRIPLEDS ['LED2', 1]\n",
      "STRIPLEDS ['LED3', 2]\n",
      "STRIPLEDS ['LED4', 3]\n",
      "STRIPLEDS ['LED5', 4]\n",
      "STRIPLEDS ['LED6', 5]\n",
      "SERVOS ['S1', 34]\n",
      "SERVOS ['S2', 35]\n",
      "MOTORPWMS ['M_PWMA', 36]\n",
      "MOTORPWMS ['M_PWMB', 37]\n",
      "MOTORINS ['M_INA', 38]\n",
      "MOTORINS ['M_INB', 39]\n"
     ]
    }
   ],
   "source": [
    "for key, value in arrayNames.items():\n",
    "    for val in value:\n",
    "        print(key,val)\n",
    "  "
   ]
  },
  {
   "cell_type": "code",
   "execution_count": 385,
   "metadata": {
    "collapsed": false
   },
   "outputs": [
    {
     "data": {
      "text/plain": [
       "12"
      ]
     },
     "execution_count": 385,
     "metadata": {},
     "output_type": "execute_result"
    }
   ],
   "source": [
    "arrayNames.get('BUTTONS')[0][1]"
   ]
  },
  {
   "cell_type": "code",
   "execution_count": 118,
   "metadata": {
    "collapsed": true
   },
   "outputs": [
    {
     "name": "stdout",
     "output_type": "stream",
     "text": [
      "AN AN1\n",
      "None\n",
      "AN AN2\n",
      "None\n",
      "AN AN11\n",
      "None\n",
      "AN AN12\n",
      "None\n",
      "AN B2\n",
      "None\n",
      "AN B1\n",
      "None\n",
      "AN B3\n",
      "None\n",
      "AN B4\n",
      "None\n",
      "AN B5\n",
      "None\n",
      "AN B6\n",
      "None\n",
      "AN B7\n",
      "None\n",
      "AN B8\n",
      "None\n",
      "AN AN3\n",
      "None\n",
      "AN B9\n",
      "None\n",
      "AN B10\n",
      "None\n",
      "AN B11\n",
      "None\n",
      "AN B12\n",
      "None\n",
      "AN B13\n",
      "None\n",
      "AN B14\n",
      "None\n",
      "AN B15\n",
      "None\n",
      "AN B16\n",
      "None\n",
      "AN JOYV1\n",
      "None\n",
      "AN JOYV2\n",
      "None\n",
      "AN AN4\n",
      "None\n",
      "AN JOYH1\n",
      "None\n",
      "AN JOYH2\n",
      "None\n",
      "AN JOYB1\n",
      "None\n",
      "AN JOYB2\n",
      "None\n",
      "AN AN5\n",
      "None\n",
      "AN AN6\n",
      "None\n",
      "AN AN7\n",
      "None\n",
      "AN AN8\n",
      "None\n",
      "AN AN9\n",
      "None\n",
      "AN AN10\n",
      "None\n",
      "AN PWM_1\n",
      "None\n",
      "AN PWM_2\n",
      "None\n",
      "AN PWM_3\n",
      "None\n",
      "AN PWM_4\n",
      "None\n",
      "AN PWM_5\n",
      "None\n",
      "AN PWM_6\n",
      "None\n",
      "AN PWM_7\n",
      "None\n",
      "AN PWM_8\n",
      "None\n",
      "AN PWM_9\n",
      "None\n",
      "AN PWM_10\n",
      "None\n",
      "AN PWM_11\n",
      "None\n",
      "AN PWM_12\n",
      "None\n",
      "AN PWM_13\n",
      "None\n",
      "AN PWM_14\n",
      "None\n",
      "AN PWM_15\n",
      "None\n",
      "AN PWM_16\n",
      "None\n",
      "AN S1\n",
      "None\n",
      "AN S2\n",
      "None\n",
      "AN M_PWMA\n",
      "None\n",
      "AN M_PWMB\n",
      "None\n",
      "AN M_INA\n",
      "None\n",
      "AN M_INB\n",
      "None\n"
     ]
    }
   ],
   "source": [
    "searchTerm = 'AN'\n",
    "for key, value in pinDict.items():    \n",
    "    searchWord = re.search(str(key), searchTerm)  \n",
    "    if not searchWord:\n",
    "        print(searchTerm, key)\n",
    "        print(searchWord)"
   ]
  }
 ],
 "metadata": {
  "kernelspec": {
   "display_name": "Python 3",
   "language": "python",
   "name": "python3"
  },
  "language_info": {
   "codemirror_mode": {
    "name": "ipython",
    "version": 3
   },
   "file_extension": ".py",
   "mimetype": "text/x-python",
   "name": "python",
   "nbconvert_exporter": "python",
   "pygments_lexer": "ipython3",
   "version": "3.6.0"
  }
 },
 "nbformat": 4,
 "nbformat_minor": 2
}
