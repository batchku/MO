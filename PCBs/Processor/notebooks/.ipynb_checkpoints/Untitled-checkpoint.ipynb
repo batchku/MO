{
 "cells": [
  {
   "cell_type": "code",
   "execution_count": 22,
   "metadata": {
    "collapsed": true
   },
   "outputs": [],
   "source": [
    "import string\n",
    "import sys\n",
    "import re\n",
    "import os"
   ]
  },
  {
   "cell_type": "code",
   "execution_count": 29,
   "metadata": {
    "collapsed": true
   },
   "outputs": [],
   "source": [
    "filename = 'MOL-pinlist-board'\n",
    "theText = open(filename, \"r\").read()\n",
    "theTextLines = open(filename, \"r\").readlines()\n",
    "startText = 'TEENSY   0'\n",
    "endText = '         3V3(4)'\n",
    "skiptText = 'unconnected|3V3|AREF|AGND|GND'\n",
    "\n",
    "with open(filename) as myFile:\n",
    "        for num, line in enumerate(myFile,1):\n",
    "                if startText in line:\n",
    "                    startLine = num - 1 #first line is off by 1 for some reason\n",
    "                if endText in line:\n",
    "                    endLine = num\n",
    "        lineRange = range(startLine,endLine)\n",
    "\n",
    "def changeToInt(s):\n",
    "    try:\n",
    "        int(s)\n",
    "        return int(s)\n",
    "    except ValueError:\n",
    "        return s"
   ]
  },
  {
   "cell_type": "code",
   "execution_count": 30,
   "metadata": {
    "collapsed": false
   },
   "outputs": [],
   "source": [
    "pinDict = dict()\n",
    "for i in lineRange:\n",
    "    #print('------')\n",
    "    #print(theTextLines[i])\n",
    "    thisline = re.split(\" +\", theTextLines[i])\n",
    "    #print(thisline)\n",
    "    pinNum = thisline[1]\n",
    "    pinSig = re.sub('\\n','',thisline[2])\n",
    "    test = re.search(skiptText,theTextLines[i])\n",
    "    #print(test)\n",
    "    if test is None :\n",
    "        pinDict[pinSig] = changeToInt(pinNum)\n",
    "        #pinDict[pinSig] = pinNum"
   ]
  },
  {
   "cell_type": "code",
   "execution_count": 31,
   "metadata": {
    "collapsed": false
   },
   "outputs": [
    {
     "data": {
      "text/plain": [
       "{'A1': 14,\n",
       " 'A10': 'DAC1',\n",
       " 'A11': 'A10',\n",
       " 'A12': 'A11',\n",
       " 'A2': 15,\n",
       " 'A3': 16,\n",
       " 'A4': 33,\n",
       " 'A5': 34,\n",
       " 'A6': 35,\n",
       " 'A7': 36,\n",
       " 'A8': 39,\n",
       " 'A9': 'DAC0',\n",
       " 'B1': 11,\n",
       " 'B10': 44,\n",
       " 'B11': 45,\n",
       " 'B12': 46,\n",
       " 'B2': 12,\n",
       " 'B3': 24,\n",
       " 'B4': 25,\n",
       " 'B5': 26,\n",
       " 'B6': 27,\n",
       " 'B7': 28,\n",
       " 'B8': 42,\n",
       " 'B9': 43,\n",
       " 'I2C_SCL': 47,\n",
       " 'I2C_SDA': 48,\n",
       " 'L1': 2,\n",
       " 'L10': 37,\n",
       " 'L11': 50,\n",
       " 'L12': 49,\n",
       " 'L2': 3,\n",
       " 'L3': 4,\n",
       " 'L4': 5,\n",
       " 'L5': 6,\n",
       " 'L6': 7,\n",
       " 'L7': 8,\n",
       " 'L8': 23,\n",
       " 'L9': 29,\n",
       " 'M_AIN': 40,\n",
       " 'M_BIN': 41,\n",
       " 'M_JOYB': 0,\n",
       " 'M_JOYH': 18,\n",
       " 'M_JOYV': 17,\n",
       " 'M_PWMA': 21,\n",
       " 'M_PWMB': 22,\n",
       " 'S1': 9,\n",
       " 'S2': 10,\n",
       " 'S_JOYB': 1,\n",
       " 'S_JOYH': 20,\n",
       " 'S_JOYV': 19,\n",
       " 'U1': 51,\n",
       " 'U2': 52,\n",
       " 'U3': 53,\n",
       " 'U4': 54}"
      ]
     },
     "execution_count": 31,
     "metadata": {},
     "output_type": "execute_result"
    }
   ],
   "source": [
    "pinDict"
   ]
  },
  {
   "cell_type": "code",
   "execution_count": 32,
   "metadata": {
    "collapsed": false
   },
   "outputs": [],
   "source": [
    "output = open(\"output.h\", \"w\")\n",
    "\n",
    "for key, value in pinDict.items():\n",
    "    outputLine = \"int \" + key + \"\\t\" + \"= \" + str(value) + \";\\n\"\n",
    "    output.write(outputLine)\n",
    "    \n",
    "output.close() "
   ]
  },
  {
   "cell_type": "code",
   "execution_count": null,
   "metadata": {
    "collapsed": true
   },
   "outputs": [],
   "source": []
  }
 ],
 "metadata": {
  "kernelspec": {
   "display_name": "Python 3",
   "language": "python",
   "name": "python3"
  },
  "language_info": {
   "codemirror_mode": {
    "name": "ipython",
    "version": 3
   },
   "file_extension": ".py",
   "mimetype": "text/x-python",
   "name": "python",
   "nbconvert_exporter": "python",
   "pygments_lexer": "ipython3",
   "version": "3.6.0"
  }
 },
 "nbformat": 4,
 "nbformat_minor": 2
}
