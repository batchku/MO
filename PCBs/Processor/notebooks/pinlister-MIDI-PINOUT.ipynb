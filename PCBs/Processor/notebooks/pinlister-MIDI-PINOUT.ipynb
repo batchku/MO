{
 "cells": [
  {
   "cell_type": "code",
   "execution_count": 124,
   "metadata": {
    "collapsed": true
   },
   "outputs": [],
   "source": [
    "import string\n",
    "import sys\n",
    "import re\n",
    "import os"
   ]
  },
  {
   "cell_type": "code",
   "execution_count": 125,
   "metadata": {
    "collapsed": true
   },
   "outputs": [],
   "source": [
    "filename = 'midi4'\n",
    "theText = open(filename, \"r\").read()\n",
    "theTextLines = open(filename, \"r\").readlines()\n",
    "startText = 'TEENSY' #Start at MIDI_IN\n",
    "endText = '         3V3(4)'#go to the end of MIDI_OUT\n",
    "skiptText = 'unconnected|3V3|AREF|AGND|GND|\\*\\*\\*' # lines to be skipped, N$* indicated a connection yet to be made"
   ]
  },
  {
   "cell_type": "code",
   "execution_count": 126,
   "metadata": {
    "collapsed": false
   },
   "outputs": [],
   "source": [
    "with open(filename) as myFile:\n",
    "        for num, line in enumerate(myFile,1):\n",
    "                if startText in line:\n",
    "                    startLine = num -1 #first line is off by 1 for some reason\n",
    "                if endText in line:\n",
    "                    endLine = num -1\n",
    "        lineRange = range(startLine,endLine)"
   ]
  },
  {
   "cell_type": "code",
   "execution_count": 127,
   "metadata": {
    "collapsed": false
   },
   "outputs": [
    {
     "data": {
      "text/plain": [
       "range(471, 551)"
      ]
     },
     "execution_count": 127,
     "metadata": {},
     "output_type": "execute_result"
    }
   ],
   "source": [
    "lineRange"
   ]
  },
  {
   "cell_type": "code",
   "execution_count": 128,
   "metadata": {
    "collapsed": true
   },
   "outputs": [],
   "source": [
    "def changeToInt(s):\n",
    "    try:\n",
    "        int(s)\n",
    "        return int(s)\n",
    "    except ValueError:\n",
    "        return s"
   ]
  },
  {
   "cell_type": "code",
   "execution_count": 129,
   "metadata": {
    "collapsed": false
   },
   "outputs": [
    {
     "name": "stdout",
     "output_type": "stream",
     "text": [
      "['0', 'LED4\\n']\n",
      "['1', 'B16\\n']\n",
      "['2', 'PWM7\\n']\n",
      "['3', 'PWM8\\n']\n",
      "['4', 'PWM5\\n']\n",
      "['5', 'PWM6\\n']\n",
      "['6', 'PWM3\\n']\n",
      "['7', 'PWM4\\n']\n",
      "['8', 'PWM1\\n']\n",
      "['9', 'PWM2\\n']\n",
      "['P', '***\\n']\n",
      "['R', '***\\n']\n",
      "['10', 'PWM10\\n']\n",
      "['11', 'B12\\n']\n",
      "['12', 'B11\\n']\n",
      "['13', 'B13\\n']\n",
      "['14', 'PWM12\\n']\n",
      "['15', 'AN4\\n']\n",
      "['16', 'PWM11\\n']\n",
      "['17', 'PWM9\\n']\n",
      "['18', 'AN5\\n']\n",
      "['19', 'AN6\\n']\n",
      "['20', 'AN7\\n']\n",
      "['21', 'AN8\\n']\n",
      "['22', 'AN11\\n']\n",
      "['23', 'AN12\\n']\n",
      "['24', 'B10\\n']\n",
      "['25', 'B9\\n']\n",
      "['26', 'B8\\n']\n",
      "['27', 'B7\\n']\n",
      "['28', 'B6\\n']\n",
      "['29', 'PWM14\\n']\n",
      "['30', 'PWM13\\n']\n",
      "['31', 'JOYH2\\n']\n",
      "['32', 'JOYV2\\n']\n",
      "['33', 'S1\\n']\n",
      "['34', 'S2\\n']\n",
      "['35', 'M_PWMB\\n']\n",
      "['36', 'M_PWMA\\n']\n",
      "['37', 'PWM16\\n']\n",
      "['38', 'PWM15\\n']\n",
      "['39', 'AN1\\n']\n",
      "['40', 'B5\\n']\n",
      "['41', 'LED2\\n']\n",
      "['42', 'B3\\n']\n",
      "['43', 'LED1\\n']\n",
      "['44', 'JOYB2\\n']\n",
      "['45', 'M_INA\\n']\n",
      "['46', 'M_INB\\n']\n",
      "['47', 'JOYB1\\n']\n",
      "['48', 'B1\\n']\n",
      "['49', 'AN9\\n']\n",
      "['50', 'AN10\\n']\n",
      "['51', 'B2\\n']\n",
      "['52', 'B4\\n']\n",
      "['53', 'LED3\\n']\n",
      "['54', 'B14\\n']\n",
      "['55', 'LED5\\n']\n",
      "['56', 'B15\\n']\n",
      "['57', 'LED6\\n']\n",
      "['DC', '***\\n']\n",
      "['DD', '***\\n']\n",
      "['DE', '***\\n']\n",
      "['G0', 'GND\\n']\n",
      "['G1', 'GND\\n']\n",
      "['G2', 'GND\\n']\n",
      "['G3', 'GND\\n']\n",
      "['G6', 'GND\\n']\n",
      "['A10', 'JOYV1\\n']\n",
      "['A11', 'JOYH1\\n']\n",
      "['VIN', '***\\n']\n",
      "['AGND', 'AGND\\n']\n",
      "['AREF', '***\\n']\n",
      "['DAC0', 'AN2\\n']\n",
      "['DAC1', 'AN3\\n']\n",
      "['VBAT', '***\\n']\n",
      "['VUSB', '***\\n']\n",
      "['3V3(1)', '+3V3\\n']\n",
      "['3V3(2)', '+3V3\\n']\n",
      "['3V3(3)', '+3V3\\n']\n"
     ]
    }
   ],
   "source": [
    "pinDict = dict()\n",
    "for i in lineRange:\n",
    "    #print('------')\n",
    "    #print(theTextLines[i])\n",
    "    \n",
    "    thisline = re.split(\" +\", theTextLines[i])\n",
    "    #print(thisline)\n",
    "    thisline = [thisline[1], thisline[-1]]\n",
    "    \n",
    "    #print(thisline)\n",
    "#     thisline = [e for e in thisline if e not in ('*', 'none', 'io','','MIDI_IN','MIDI_OUT', '\\n')]\n",
    "#     if thisline: #skips lists that are empty\n",
    "#         #print(thisline)\n",
    "    pinName = thisline[1] #index 0 is the signal name\n",
    "    pinName = re.sub('\\n','',pinName) #remove line breaks from midi numbers\n",
    "    pinNum =re.sub('DAC0','A21', thisline[0])\n",
    "    pinNum =re.sub('DAC1','A22', pinNum)\n",
    "    \n",
    "    test = re.search(skiptText,thisline[1]) #skip lines that aren't connected\n",
    "    print(thisline)\n",
    "    #print(test)\n",
    "    if test is None :\n",
    "        pinDict[pinName] = changeToInt(pinNum)\n",
    "            "
   ]
  },
  {
   "cell_type": "code",
   "execution_count": 130,
   "metadata": {
    "collapsed": false,
    "scrolled": true
   },
   "outputs": [
    {
     "data": {
      "text/plain": [
       "{'AN1': 39,\n",
       " 'AN10': 50,\n",
       " 'AN11': 22,\n",
       " 'AN12': 23,\n",
       " 'AN2': 'A21',\n",
       " 'AN3': 'A22',\n",
       " 'AN4': 15,\n",
       " 'AN5': 18,\n",
       " 'AN6': 19,\n",
       " 'AN7': 20,\n",
       " 'AN8': 21,\n",
       " 'AN9': 49,\n",
       " 'B1': 48,\n",
       " 'B10': 24,\n",
       " 'B11': 12,\n",
       " 'B12': 11,\n",
       " 'B13': 13,\n",
       " 'B14': 54,\n",
       " 'B15': 56,\n",
       " 'B16': 1,\n",
       " 'B2': 51,\n",
       " 'B3': 42,\n",
       " 'B4': 52,\n",
       " 'B5': 40,\n",
       " 'B6': 28,\n",
       " 'B7': 27,\n",
       " 'B8': 26,\n",
       " 'B9': 25,\n",
       " 'JOYB1': 47,\n",
       " 'JOYB2': 44,\n",
       " 'JOYH1': 'A11',\n",
       " 'JOYH2': 31,\n",
       " 'JOYV1': 'A10',\n",
       " 'JOYV2': 32,\n",
       " 'LED1': 43,\n",
       " 'LED2': 41,\n",
       " 'LED3': 53,\n",
       " 'LED4': 0,\n",
       " 'LED5': 55,\n",
       " 'LED6': 57,\n",
       " 'M_INA': 45,\n",
       " 'M_INB': 46,\n",
       " 'M_PWMA': 36,\n",
       " 'M_PWMB': 35,\n",
       " 'PWM1': 8,\n",
       " 'PWM10': 10,\n",
       " 'PWM11': 16,\n",
       " 'PWM12': 14,\n",
       " 'PWM13': 30,\n",
       " 'PWM14': 29,\n",
       " 'PWM15': 38,\n",
       " 'PWM16': 37,\n",
       " 'PWM2': 9,\n",
       " 'PWM3': 6,\n",
       " 'PWM4': 7,\n",
       " 'PWM5': 4,\n",
       " 'PWM6': 5,\n",
       " 'PWM7': 2,\n",
       " 'PWM8': 3,\n",
       " 'PWM9': 17,\n",
       " 'S1': 33,\n",
       " 'S2': 34}"
      ]
     },
     "execution_count": 130,
     "metadata": {},
     "output_type": "execute_result"
    }
   ],
   "source": [
    "d = pinDict\n",
    "\n",
    "d"
   ]
  },
  {
   "cell_type": "code",
   "execution_count": 131,
   "metadata": {
    "collapsed": false
   },
   "outputs": [],
   "source": [
    "output = open(\"output.h\", \"w\")\n",
    "\n",
    "#Create variables based on pinout\n",
    "for key, value in pinDict.items():\n",
    "    #outputLine = \"int \" + key + \"\\t\" + \"= \" + str(value) + \";\\n\"\n",
    "    outputLine = '{}{:10}{}{}{}'.format('const int ',key,'= ',value,';\\n')\n",
    "    output.write(outputLine)\n",
    "  \n",
    "output.close() "
   ]
  },
  {
   "cell_type": "code",
   "execution_count": null,
   "metadata": {
    "collapsed": true
   },
   "outputs": [],
   "source": []
  }
 ],
 "metadata": {
  "kernelspec": {
   "display_name": "Python 3",
   "language": "python",
   "name": "python3"
  },
  "language_info": {
   "codemirror_mode": {
    "name": "ipython",
    "version": 3
   },
   "file_extension": ".py",
   "mimetype": "text/x-python",
   "name": "python",
   "nbconvert_exporter": "python",
   "pygments_lexer": "ipython3",
   "version": "3.6.0"
  }
 },
 "nbformat": 4,
 "nbformat_minor": 2
}
